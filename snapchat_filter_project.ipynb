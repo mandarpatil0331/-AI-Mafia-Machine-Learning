{
 "cells": [
  {
   "cell_type": "code",
   "execution_count": 1,
   "metadata": {},
   "outputs": [],
   "source": [
    "import cv2\n",
    "import numpy as np\n",
    "def transparentOverlay(src, overlay, pos=(0, 0), scale=1):\n",
    "    overlay = cv2.resize(overlay, (0, 0), fx=scale, fy=scale)\n",
    "    h, w, _ = overlay.shape  # Size of foreground\n",
    "    rows, cols, _ = src.shape  # Size of background Image\n",
    "    y, x = pos[0], pos[1]  # Position of foreground/overlay image\n",
    "\n",
    "    for i in range(h):\n",
    "        for j in range(w):\n",
    "            if x + i >= rows or y + j >= cols:\n",
    "                continue\n",
    "            alpha = float(overlay[i][j][3] / 255.0)  # read the alpha channel\n",
    "            src[x + i][y + j] = alpha * overlay[i][j][:3] + (1 - alpha) * src[x + i][y + j]\n",
    "    return src"
   ]
  },
  {
   "cell_type": "code",
   "execution_count": null,
   "metadata": {},
   "outputs": [],
   "source": [
    "import cv2\n",
    " \n",
    "faceCascade= cv2.CascadeClassifier(r'C:\\Users\\mandar patil\\Desktop\\man.xml')\n",
    "img = cv2.imread(r'C:\\Users\\mandar patil\\Downloads\\Jamie_Before.jpg')\n",
    "specs_ori = cv2.imread(r'C:\\Users\\mandar patil\\Downloads\\glasses.png', -1)\n",
    "mus_ori = cv2.imread(r'C:\\Users\\mandar patil\\Downloads\\mustache.png', -1)\n",
    "imgGray = cv2.cvtColor(img,cv2.COLOR_BGR2GRAY)\n",
    " \n",
    "faces = faceCascade.detectMultiScale(imgGray,1.1,4)\n",
    " \n",
    "for (x,y,w,h) in faces:\n",
    "    #cv2.rectangle(img,(x,y),(x+w,y+h),(255,0,0),2)\n",
    "    if h > 0 and w > 0:\n",
    "        glass_symin = int(y + 1.5 * h / 5)\n",
    "        glass_symax = int(y + 2.5 * h / 5)\n",
    "        sh_glass = glass_symax - glass_symin\n",
    "\n",
    "        mus_symin = int(y + 3.5 * h / 6)\n",
    "        mus_symax = int(y + 5 * h / 6)\n",
    "        sh_mus = mus_symax - mus_symin\n",
    "\n",
    "        face_glass_roi_color = img[glass_symin:glass_symax, x:x + w]\n",
    "        face_mus_roi_color = img[mus_symin:mus_symax, x:x + w]\n",
    "\n",
    "        specs = cv2.resize(specs_ori, (w, sh_glass), interpolation=cv2.INTER_CUBIC)\n",
    "        mustache = cv2.resize(mus_ori, (w, sh_mus), interpolation=cv2.INTER_CUBIC)\n",
    "        \n",
    "        transparentOverlay(face_glass_roi_color, specs)\n",
    "            #transparentOverlay(face_cigar_roi_color, cigar, (int(w / 2), int(sh_cigar / 2)))\n",
    "        transparentOverlay(face_mus_roi_color, mustache)\n",
    "cv2.imshow(\"Result\", img)\n",
    "cv2.waitKey(0)"
   ]
  },
  {
   "cell_type": "code",
   "execution_count": null,
   "metadata": {},
   "outputs": [],
   "source": []
  }
 ],
 "metadata": {
  "kernelspec": {
   "display_name": "Python 3",
   "language": "python",
   "name": "python3"
  },
  "language_info": {
   "codemirror_mode": {
    "name": "ipython",
    "version": 3
   },
   "file_extension": ".py",
   "mimetype": "text/x-python",
   "name": "python",
   "nbconvert_exporter": "python",
   "pygments_lexer": "ipython3",
   "version": "3.7.6"
  }
 },
 "nbformat": 4,
 "nbformat_minor": 4
}
